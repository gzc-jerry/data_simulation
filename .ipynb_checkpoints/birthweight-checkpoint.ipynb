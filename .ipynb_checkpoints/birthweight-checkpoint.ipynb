{
 "cells": [
  {
   "cell_type": "code",
   "execution_count": 1,
   "id": "7cd5003d-f462-40fe-9431-6bcbad8b103e",
   "metadata": {},
   "outputs": [],
   "source": [
    "import numpy as np\n",
    "import pandas as pd\n",
    "\n",
    "%matplotlib inline\n",
    "import matplotlib.pyplot as plt\n",
    "plt.style.use('fivethirtyeight')\n",
    "import warnings\n",
    "warnings.simplefilter('ignore', FutureWarning)"
   ]
  },
  {
   "cell_type": "code",
   "execution_count": 2,
   "id": "a28a8b5e-acb9-4e20-8601-4f77b624afe9",
   "metadata": {},
   "outputs": [
    {
     "name": "stdout",
     "output_type": "stream",
     "text": [
      "(1174, 6)\n"
     ]
    },
    {
     "data": {
      "text/html": [
       "<div>\n",
       "<style scoped>\n",
       "    .dataframe tbody tr th:only-of-type {\n",
       "        vertical-align: middle;\n",
       "    }\n",
       "\n",
       "    .dataframe tbody tr th {\n",
       "        vertical-align: top;\n",
       "    }\n",
       "\n",
       "    .dataframe thead th {\n",
       "        text-align: right;\n",
       "    }\n",
       "</style>\n",
       "<table border=\"1\" class=\"dataframe\">\n",
       "  <thead>\n",
       "    <tr style=\"text-align: right;\">\n",
       "      <th></th>\n",
       "      <th>Birth Weight</th>\n",
       "      <th>Gestational Days</th>\n",
       "      <th>Maternal Age</th>\n",
       "      <th>Maternal Height</th>\n",
       "      <th>Maternal Pregnancy Weight</th>\n",
       "      <th>Maternal Smoker</th>\n",
       "    </tr>\n",
       "  </thead>\n",
       "  <tbody>\n",
       "    <tr>\n",
       "      <th>0</th>\n",
       "      <td>120</td>\n",
       "      <td>284</td>\n",
       "      <td>27</td>\n",
       "      <td>62</td>\n",
       "      <td>100</td>\n",
       "      <td>False</td>\n",
       "    </tr>\n",
       "    <tr>\n",
       "      <th>1</th>\n",
       "      <td>113</td>\n",
       "      <td>282</td>\n",
       "      <td>33</td>\n",
       "      <td>64</td>\n",
       "      <td>135</td>\n",
       "      <td>False</td>\n",
       "    </tr>\n",
       "    <tr>\n",
       "      <th>2</th>\n",
       "      <td>128</td>\n",
       "      <td>279</td>\n",
       "      <td>28</td>\n",
       "      <td>64</td>\n",
       "      <td>115</td>\n",
       "      <td>True</td>\n",
       "    </tr>\n",
       "    <tr>\n",
       "      <th>3</th>\n",
       "      <td>108</td>\n",
       "      <td>282</td>\n",
       "      <td>23</td>\n",
       "      <td>67</td>\n",
       "      <td>125</td>\n",
       "      <td>True</td>\n",
       "    </tr>\n",
       "    <tr>\n",
       "      <th>4</th>\n",
       "      <td>136</td>\n",
       "      <td>286</td>\n",
       "      <td>25</td>\n",
       "      <td>62</td>\n",
       "      <td>93</td>\n",
       "      <td>False</td>\n",
       "    </tr>\n",
       "  </tbody>\n",
       "</table>\n",
       "</div>"
      ],
      "text/plain": [
       "   Birth Weight  Gestational Days  Maternal Age  Maternal Height  \\\n",
       "0           120               284            27               62   \n",
       "1           113               282            33               64   \n",
       "2           128               279            28               64   \n",
       "3           108               282            23               67   \n",
       "4           136               286            25               62   \n",
       "\n",
       "   Maternal Pregnancy Weight  Maternal Smoker  \n",
       "0                        100            False  \n",
       "1                        135            False  \n",
       "2                        115             True  \n",
       "3                        125             True  \n",
       "4                         93            False  "
      ]
     },
     "execution_count": 2,
     "metadata": {},
     "output_type": "execute_result"
    }
   ],
   "source": [
    "baby_df = pd.read_csv('data/baby.csv')\n",
    "print(baby_df.shape)\n",
    "baby_df.head(5)"
   ]
  },
  {
   "cell_type": "code",
   "execution_count": 6,
   "id": "679ebef5-5753-48d3-bb2e-001f3b531084",
   "metadata": {},
   "outputs": [
    {
     "data": {
      "text/plain": [
       "0       40.322661\n",
       "1       51.086528\n",
       "2       43.518153\n",
       "3       43.161147\n",
       "4       37.500075\n",
       "          ...    \n",
       "1169    43.055642\n",
       "1170    41.434701\n",
       "1171    55.029696\n",
       "1172    40.355110\n",
       "1173    47.325538\n",
       "Length: 1174, dtype: float64"
      ]
     },
     "execution_count": 6,
     "metadata": {},
     "output_type": "execute_result"
    }
   ],
   "source": [
    "# To calculate the BMI for the mothers in this dataset\n",
    "inches_to_meters = 0.0254\n",
    "bmi = baby_df[\"Maternal Pregnancy Weight\"] / (baby_df[\"Maternal Height\"] * inches_to_meters)**2\n",
    "bmi"
   ]
  },
  {
   "cell_type": "code",
   "execution_count": 12,
   "id": "ea9da8d3-7a95-48af-b798-7b7aa6109b08",
   "metadata": {},
   "outputs": [
    {
     "data": {
      "image/png": "[encoded data removed]",
      "text/plain": [
       "<Figure size 640x480 with 1 Axes>"
      ]
     },
     "metadata": {},
     "output_type": "display_data"
    }
   ],
   "source": [
    "# Histogram that compares BMI for non-smoker moms and smoker moms\n",
    "baby_df[\"BMI\"] = bmi\n",
    "smoker_bmi = baby_df.loc[baby_df[\"Maternal Smoker\"] == True][\"BMI\"]\n",
    "non_smoker_bmi = baby_df.loc[baby_df[\"Maternal Smoker\"] == False][\"BMI\"]\n",
    "\n",
    "bins = np.arange(30,90)\n",
    "plt.hist(non_smoker_bmi, bins=bins, label=\"Non-smoker\")\n",
    "plt.hist(smoker_bmi, bins=bins, label=\"Smoker\")\n",
    "plt.xlabel(\"BMI (kg/m²)\"); \n",
    "plt.ylabel(\"Density\"); \n",
    "plt.legend(); \n",
    "plt.show()"
   ]
  },
  {
   "cell_type": "markdown",
   "id": "5039cfc5-c539-4fcb-8bb5-91b3dbbfa249",
   "metadata": {},
   "source": [
    "## Hypothesis Testing Part (Permutation Test)\n"
   ]
  },
  {
   "cell_type": "code",
   "execution_count": 16,
   "id": "4ee65a3d-7e83-4659-98d9-2daf45ff855e",
   "metadata": {},
   "outputs": [
    {
     "name": "stdout",
     "output_type": "stream",
     "text": [
      "The p-value of this test is 0.0084\n",
      "The mean of differences in BMI samples under the null hypothesis is 0.003588692719804147\n",
      "The observed difference in BMI sample means is 1.0905614901448075\n",
      "\n",
      "Therefore, at a significance level of 0.05 we reject the null hypothesis\n"
     ]
    }
   ],
   "source": [
    "# Null Distribution & p-value\n",
    "test_stat_mean = (np.mean(baby_df[baby_df[\"Maternal Smoker\"] == False][\"BMI\"]) - \n",
    "                 np.mean(baby_df[baby_df[\"Maternal Smoker\"] == True][\"BMI\"]))   \n",
    "bmis = baby_df[[\"BMI\"]]\n",
    "group_labels = baby_df['Maternal Smoker'].values\n",
    "\n",
    "nsim = 10000\n",
    "differences = np.array([])\n",
    "\n",
    "for _ in np.arange(nsim):\n",
    "    shuffled_bmis = bmis.sample(len(bmis), replace = False)[\"BMI\"].values\n",
    "    shuffled_df = pd.DataFrame({\"Shuffled BMI\": shuffled_bmis, \"Label\": group_labels})\n",
    "    suffledmean_df = shuffled_df.groupby('Label').mean()\n",
    "    new_diff = suffledmean_df.iloc[0]-suffledmean_df.iloc[1] \n",
    "    differences = np.append(differences, new_diff)\n",
    "\n",
    "test_stat_under_null_mean = differences.mean()\n",
    "\n",
    "p_val_1 = sum(differences > test_stat_mean)*2 /nsim #two-tailed test\n",
    "print(\"The p-value of this test is\", p_val_1)\n",
    "print(\"The mean of differences in BMI samples under the null hypothesis is\", test_stat_under_null_mean)\n",
    "print(\"The observed difference in BMI sample means is\", test_stat_mean)\n",
    "alpha = 0.05\n",
    "if p_val_1 <= 0.05:\n",
    "    print()\n",
    "    print(\"Therefore, at a significance level of\", alpha,\"we reject the null hypothesis\")\n",
    "else:\n",
    "    print(\"We fail to reject the null hypothesis at a significance level of\", alpha)"
   ]
  }
 ],
 "metadata": {
  "kernelspec": {
   "display_name": "Python 3 (ipykernel)",
   "language": "python",
   "name": "python3"
  },
  "language_info": {
   "codemirror_mode": {
    "name": "ipython",
    "version": 3
   },
   "file_extension": ".py",
   "mimetype": "text/x-python",
   "name": "python",
   "nbconvert_exporter": "python",
   "pygments_lexer": "ipython3",
   "version": "3.13.5"
  }
 },
 "nbformat": 4,
 "nbformat_minor": 5
}
